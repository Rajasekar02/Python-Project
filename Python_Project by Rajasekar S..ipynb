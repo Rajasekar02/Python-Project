{
 "cells": [
  {
   "cell_type": "markdown",
   "id": "35f397a1",
   "metadata": {},
   "source": [
    "# Python Project"
   ]
  },
  {
   "cell_type": "markdown",
   "id": "ddd12b7b",
   "metadata": {
    "id": "ddd12b7b"
   },
   "source": [
    "------------------------------------------------------------------------------------------------------------------------------"
   ]
  },
  {
   "cell_type": "markdown",
   "id": "179e03d2",
   "metadata": {
    "id": "179e03d2"
   },
   "source": [
    "### Learning Objective:\n",
    "- Variables and datatypes.\n",
    "- Data Structures, Operators.\n",
    "- Conditional statements & control flow\n"
   ]
  },
  {
   "cell_type": "markdown",
   "id": "c4defbf6",
   "metadata": {
    "id": "c4defbf6"
   },
   "source": [
    "-------------------------------------------------------------------------------------------------------------------------------"
   ]
  },
  {
   "cell_type": "markdown",
   "id": "5353877c",
   "metadata": {
    "id": "5353877c"
   },
   "source": [
    "### 1. Write the alphabets 'A', 'B', 'C' on new lines using a single print function."
   ]
  },
  {
   "cell_type": "code",
   "execution_count": 8,
   "id": "207a61ca",
   "metadata": {
    "id": "207a61ca",
    "outputId": "250abdf8-5a22-4f98-dfc7-3c14adac20e7"
   },
   "outputs": [
    {
     "name": "stdout",
     "output_type": "stream",
     "text": [
      "A,B,C\n"
     ]
    }
   ],
   "source": [
    "n='A,B,C'\n",
    "print(n)"
   ]
  },
  {
   "cell_type": "markdown",
   "id": "b2d46ee1",
   "metadata": {
    "id": "b2d46ee1"
   },
   "source": [
    "### 2. Create a string, a numeric and boolean variables by assigning variable names. Further, check their datatype. For numeric variable check for whole numbers and numbers with decimal point."
   ]
  },
  {
   "cell_type": "code",
   "execution_count": 9,
   "id": "94ee43fb",
   "metadata": {},
   "outputs": [
    {
     "data": {
      "text/plain": [
       "str"
      ]
     },
     "execution_count": 9,
     "metadata": {},
     "output_type": "execute_result"
    }
   ],
   "source": [
    "# Create a string variables.\n",
    "\n",
    "string= 'hello world'\n",
    "type(string)"
   ]
  },
  {
   "cell_type": "code",
   "execution_count": 19,
   "id": "c800fff0",
   "metadata": {},
   "outputs": [
    {
     "name": "stdout",
     "output_type": "stream",
     "text": [
      "<class 'int'>\n",
      "<class 'float'>\n"
     ]
    }
   ],
   "source": [
    "# Create a numerical variables.\n",
    "\n",
    "# i)whole number\n",
    "number1=369\n",
    "print(type(number1))\n",
    "\n",
    "# ii)decimal\n",
    "number2=96.3\n",
    "print(type(number2))"
   ]
  },
  {
   "cell_type": "code",
   "execution_count": 20,
   "id": "070916a8",
   "metadata": {
    "scrolled": true
   },
   "outputs": [
    {
     "data": {
      "text/plain": [
       "bool"
      ]
     },
     "execution_count": 20,
     "metadata": {},
     "output_type": "execute_result"
    }
   ],
   "source": [
    "# Create a Boolean Variables.\n",
    "\n",
    "bool= False\n",
    "type(bool)"
   ]
  },
  {
   "cell_type": "markdown",
   "id": "ae545e18",
   "metadata": {
    "id": "ae545e18"
   },
   "source": [
    "### 3. Create a complex number and assign it the name 'comp_var' and check its datatype."
   ]
  },
  {
   "cell_type": "code",
   "execution_count": 29,
   "id": "f32d85bb",
   "metadata": {},
   "outputs": [
    {
     "data": {
      "text/plain": [
       "complex"
      ]
     },
     "execution_count": 29,
     "metadata": {},
     "output_type": "execute_result"
    }
   ],
   "source": [
    "# Complex number with 'comp_var'.\n",
    "\n",
    "comp_var = 20+2j\n",
    "type(comp_var)"
   ]
  },
  {
   "cell_type": "markdown",
   "id": "7493bd91",
   "metadata": {
    "id": "7493bd91"
   },
   "source": [
    "### 4. Convert a float variable f = 88.63 to integer."
   ]
  },
  {
   "cell_type": "code",
   "execution_count": 30,
   "id": "7d837ef4",
   "metadata": {
    "id": "7d837ef4",
    "outputId": "dfefe3da-8bf3-4458-a26e-fd455ceef59a"
   },
   "outputs": [
    {
     "data": {
      "text/plain": [
       "float"
      ]
     },
     "execution_count": 30,
     "metadata": {},
     "output_type": "execute_result"
    }
   ],
   "source": [
    "# Float Variable.\n",
    "\n",
    "f=88.63\n",
    "type(f)"
   ]
  },
  {
   "cell_type": "markdown",
   "id": "85773ceb",
   "metadata": {
    "id": "85773ceb"
   },
   "source": [
    "### 5. Create a numeric variable and convert it to a string."
   ]
  },
  {
   "cell_type": "code",
   "execution_count": 31,
   "id": "fcd3b0c1",
   "metadata": {
    "id": "fcd3b0c1",
    "outputId": "05a8d5dd-cf82-4f5c-c512-d41a31047fd0"
   },
   "outputs": [
    {
     "data": {
      "text/plain": [
       "'369'"
      ]
     },
     "execution_count": 31,
     "metadata": {},
     "output_type": "execute_result"
    }
   ],
   "source": [
    "# Create Numeric variable and convert it to a String.\n",
    "\n",
    "var=369\n",
    "str(var)"
   ]
  },
  {
   "cell_type": "markdown",
   "id": "bd9aab69",
   "metadata": {
    "id": "bd9aab69"
   },
   "source": [
    "### 6. Create two strings and concatenate them using '+' operator."
   ]
  },
  {
   "cell_type": "code",
   "execution_count": 33,
   "id": "a96c991a",
   "metadata": {
    "id": "a96c991a",
    "outputId": "1f6a4ee4-308e-43e2-f8dd-ca95169254ec"
   },
   "outputs": [
    {
     "data": {
      "text/plain": [
       "'Rajasekar'"
      ]
     },
     "execution_count": 33,
     "metadata": {},
     "output_type": "execute_result"
    }
   ],
   "source": [
    "# Create 2 String with '+' operator.\n",
    "\n",
    "string1='Raja'\n",
    "string2='sekar'\n",
    "string1+string2"
   ]
  },
  {
   "cell_type": "markdown",
   "id": "5545b93d",
   "metadata": {
    "id": "5545b93d"
   },
   "source": [
    "### 7. Create a string with the name 'Bengaluru' and 'Great Learning' as its element. Perform the following on it:\n",
    "- Find its length.\n",
    "- Extract it first two letters."
   ]
  },
  {
   "cell_type": "code",
   "execution_count": 34,
   "id": "79019074",
   "metadata": {
    "id": "79019074",
    "outputId": "ce04ea7a-582b-4c3a-af85-658f6ca44456"
   },
   "outputs": [
    {
     "name": "stdout",
     "output_type": "stream",
     "text": [
      "14\n"
     ]
    }
   ],
   "source": [
    "# Create string with elements.\n",
    "\n",
    "Bengaluru= 'Great Learning'\n",
    "print(len(Bengaluru))"
   ]
  },
  {
   "cell_type": "code",
   "execution_count": 35,
   "id": "ddec9d25",
   "metadata": {},
   "outputs": [
    {
     "name": "stdout",
     "output_type": "stream",
     "text": [
      "Gr\n"
     ]
    }
   ],
   "source": [
    "print(Bengaluru[0:2])"
   ]
  },
  {
   "cell_type": "markdown",
   "id": "b1722f8a",
   "metadata": {
    "id": "b1722f8a"
   },
   "source": [
    "### 8. Given the string 'Today is a rainy day.'\n",
    "- Write a code to get 'is' and 'day'.\n",
    "- Obtain the last two letters.\n",
    "- Write the statement backwards."
   ]
  },
  {
   "cell_type": "code",
   "execution_count": 43,
   "id": "02672ec0",
   "metadata": {},
   "outputs": [
    {
     "name": "stdout",
     "output_type": "stream",
     "text": [
      "is day\n"
     ]
    }
   ],
   "source": [
    "# Create a String using a conditions.\n",
    "\n",
    "mystring = 'Today is a rainy day'\n",
    "print(mystring[6:8], mystring[17:])"
   ]
  },
  {
   "cell_type": "code",
   "execution_count": 44,
   "id": "7bcdc894",
   "metadata": {},
   "outputs": [
    {
     "name": "stdout",
     "output_type": "stream",
     "text": [
      "ay\n"
     ]
    }
   ],
   "source": [
    "print(mystring[18:])"
   ]
  },
  {
   "cell_type": "code",
   "execution_count": 45,
   "id": "33a3adf9",
   "metadata": {},
   "outputs": [
    {
     "name": "stdout",
     "output_type": "stream",
     "text": [
      "yad yniar a si yadoT\n"
     ]
    }
   ],
   "source": [
    "print(mystring[::-1])"
   ]
  },
  {
   "cell_type": "markdown",
   "id": "060f7dd9",
   "metadata": {
    "id": "060f7dd9"
   },
   "source": [
    "### 9. Write a program to perform following list operations on the list given below:\n",
    "\n",
    "- a. Check the length of mix_list_1\n",
    "- b. Check the membership of 'Data' in mix_list_1\n",
    "- c. Concatenate the mix_list_1 and mix_list_2\n",
    "- d. Repeat the mix_list_2 two times"
   ]
  },
  {
   "cell_type": "markdown",
   "id": "63b36c9e",
   "metadata": {
    "id": "63b36c9e"
   },
   "source": [
    "**Lists to perform operations:**\n",
    "\n",
    "mix_list_1 = ['Data', 'Analysis', 100, 'Python', True, 9098]\n",
    "\n",
    "mix_list_2 = ['List operations', 101, 789]"
   ]
  },
  {
   "cell_type": "code",
   "execution_count": 53,
   "id": "d20055eb",
   "metadata": {
    "id": "d20055eb"
   },
   "outputs": [],
   "source": [
    "# Create the list.\n",
    "\n",
    "mix_list_1 = ['Data','Analysis',100, 'Python', True, 9098]\n",
    "mix_list_2 = ['List operations', 101, 789]"
   ]
  },
  {
   "cell_type": "code",
   "execution_count": 54,
   "id": "35c1fc17",
   "metadata": {},
   "outputs": [
    {
     "data": {
      "text/plain": [
       "6"
      ]
     },
     "execution_count": 54,
     "metadata": {},
     "output_type": "execute_result"
    }
   ],
   "source": [
    "# a) Check the Length.\n",
    "\n",
    "len(mix_list_1)"
   ]
  },
  {
   "cell_type": "code",
   "execution_count": 55,
   "id": "f5a58543",
   "metadata": {},
   "outputs": [
    {
     "data": {
      "text/plain": [
       "True"
      ]
     },
     "execution_count": 55,
     "metadata": {},
     "output_type": "execute_result"
    }
   ],
   "source": [
    "# b) Check the membership.\n",
    "\n",
    "'Data' in mix_list_1"
   ]
  },
  {
   "cell_type": "code",
   "execution_count": 56,
   "id": "a8268ea2",
   "metadata": {},
   "outputs": [
    {
     "name": "stdout",
     "output_type": "stream",
     "text": [
      "concatenate list: ['Data', 'Analysis', 100, 'Python', True, 9098, 'List operations', 101, 789]\n"
     ]
    }
   ],
   "source": [
    "# c) Concatenate.\n",
    "\n",
    "print('concatenate list:',mix_list_1 + mix_list_2)"
   ]
  },
  {
   "cell_type": "code",
   "execution_count": 57,
   "id": "da57facb",
   "metadata": {},
   "outputs": [
    {
     "data": {
      "text/plain": [
       "['List operations', 101, 789, 'List operations', 101, 789]"
      ]
     },
     "execution_count": 57,
     "metadata": {},
     "output_type": "execute_result"
    }
   ],
   "source": [
    "# d) Repeat two times.\n",
    "\n",
    "mix_list_2*2"
   ]
  },
  {
   "cell_type": "markdown",
   "id": "745612e9",
   "metadata": {
    "id": "745612e9"
   },
   "source": [
    "### 10. Write the program to multiply the two lists. (Hint: make use of zip function)"
   ]
  },
  {
   "cell_type": "markdown",
   "id": "2a467ed8",
   "metadata": {
    "id": "2a467ed8"
   },
   "source": [
    "**Lists to perform multiplication:**\n",
    "\n",
    "num_list_1 = [10, 20, 30, 40]\n",
    "\n",
    "num_list_2 = [2, 2, 2, 2]"
   ]
  },
  {
   "cell_type": "code",
   "execution_count": 3,
   "id": "7bd5221b",
   "metadata": {},
   "outputs": [
    {
     "name": "stdout",
     "output_type": "stream",
     "text": [
      "[20, 40, 60, 80]\n"
     ]
    }
   ],
   "source": [
    "# Create the list to Multiply the two list.\n",
    "\n",
    "num_list_1 = [10, 20, 30, 40]\n",
    "num_list_2 = [2, 2, 2, 2]\n",
    "\n",
    "output_list= []\n",
    "\n",
    "for n, m in zip(num_list_1, num_list_2):\n",
    "    output_list.append(n * m)\n",
    "print(output_list)"
   ]
  },
  {
   "cell_type": "markdown",
   "id": "9b0e9c16",
   "metadata": {
    "id": "9b0e9c16"
   },
   "source": [
    "### 11. Write a program to perform following built-in list operations:\n",
    "\n",
    "- a. Minimum element of the list\n",
    "- b. Maximum element of the list\n",
    "- c. Sort the elements (use sort() and sorted() function)\n",
    "- d. Create a copy of a list\n",
    "- e. Remove element '-79' from the list"
   ]
  },
  {
   "cell_type": "markdown",
   "id": "fa19a2c9",
   "metadata": {
    "id": "fa19a2c9"
   },
   "source": [
    "**Use the below list**\n",
    "\n",
    "num_list = [90, 83, -79, 10, 0, 12]"
   ]
  },
  {
   "cell_type": "code",
   "execution_count": null,
   "id": "caf406a5",
   "metadata": {
    "id": "caf406a5"
   },
   "outputs": [],
   "source": [
    "# Create the list.\n",
    "\n",
    "num_list = [90, 83, -79, 10, 0, 12]"
   ]
  },
  {
   "cell_type": "code",
   "execution_count": 5,
   "id": "da53061c",
   "metadata": {},
   "outputs": [
    {
     "data": {
      "text/plain": [
       "-79"
      ]
     },
     "execution_count": 5,
     "metadata": {},
     "output_type": "execute_result"
    }
   ],
   "source": [
    "# a) Minimum elements of the list.\n",
    "\n",
    "num_list = [90, 83, -79, 10, 0, 12]\n",
    "min(num_list)"
   ]
  },
  {
   "cell_type": "code",
   "execution_count": 6,
   "id": "66bbde50",
   "metadata": {},
   "outputs": [
    {
     "data": {
      "text/plain": [
       "90"
      ]
     },
     "execution_count": 6,
     "metadata": {},
     "output_type": "execute_result"
    }
   ],
   "source": [
    "# b) Maximum elements of the list.\n",
    "\n",
    "num_list = [90, 83, -79, 10, 0, 12]\n",
    "max(num_list)"
   ]
  },
  {
   "cell_type": "code",
   "execution_count": 7,
   "id": "bcd7d807",
   "metadata": {},
   "outputs": [
    {
     "name": "stdout",
     "output_type": "stream",
     "text": [
      "[-79, 0, 10, 12, 83, 90]\n",
      "[-79, 0, 10, 12, 83, 90]\n"
     ]
    }
   ],
   "source": [
    "# c) Sort the elements (use sort() and sorted() function).\n",
    "\n",
    "num_list.sort()\n",
    "print(num_list)\n",
    "print(sorted(num_list))"
   ]
  },
  {
   "cell_type": "code",
   "execution_count": 10,
   "id": "8618398e",
   "metadata": {},
   "outputs": [
    {
     "data": {
      "text/plain": [
       "[0, 10, 12, 83, 90]"
      ]
     },
     "execution_count": 10,
     "metadata": {},
     "output_type": "execute_result"
    }
   ],
   "source": [
    "# d) Create a copy of a list.\n",
    "\n",
    "num_list_copy=num_list.copy()\n",
    "num_list_copy"
   ]
  },
  {
   "cell_type": "code",
   "execution_count": 11,
   "id": "d0210f6a",
   "metadata": {},
   "outputs": [
    {
     "data": {
      "text/plain": [
       "[90, 83, 10, 0, 12]"
      ]
     },
     "execution_count": 11,
     "metadata": {},
     "output_type": "execute_result"
    }
   ],
   "source": [
    "# e) Remove element '-79' from the list.\n",
    "\n",
    "num_list = [90, 83, -79, 10, 0, 12]\n",
    "num_list.remove(-79)\n",
    "num_list"
   ]
  },
  {
   "cell_type": "markdown",
   "id": "5331f801",
   "metadata": {
    "id": "5331f801"
   },
   "source": [
    "### 12. Manipulating a list:\n",
    "\n",
    "- a. Add a new element 'Boolean' at index location 0 in the given list\n",
    "- b. Replace an element 'sets' with 'string' in the given list\n",
    "- c. Add elements 'int' and 'complex' to the given list"
   ]
  },
  {
   "cell_type": "markdown",
   "id": "85c3c24f",
   "metadata": {
    "id": "85c3c24f"
   },
   "source": [
    "#### Use the below list\n",
    "\n",
    "datatypes_list = ['list', 'tuples', 'dictionary', 'sets']"
   ]
  },
  {
   "cell_type": "code",
   "execution_count": 12,
   "id": "f47eb30e",
   "metadata": {
    "id": "f47eb30e"
   },
   "outputs": [],
   "source": [
    "# create the list.\n",
    "\n",
    "datatypes_list = ['list', 'tuples', 'dictionary', 'sets']"
   ]
  },
  {
   "cell_type": "code",
   "execution_count": 13,
   "id": "2f0f3492",
   "metadata": {},
   "outputs": [
    {
     "data": {
      "text/plain": [
       "['Boolean', 'list', 'tuples', 'dictionary', 'sets']"
      ]
     },
     "execution_count": 13,
     "metadata": {},
     "output_type": "execute_result"
    }
   ],
   "source": [
    "# a) Add a new element 'Boolean' in the given list.\n",
    "\n",
    "datatypes_list.insert(0,'Boolean')\n",
    "datatypes_list"
   ]
  },
  {
   "cell_type": "code",
   "execution_count": null,
   "id": "a32dc769",
   "metadata": {},
   "outputs": [],
   "source": [
    "# b) Replace an element 'sets' with 'string' in the given list.\n",
    "\n",
    "datatypes_list[4] = 'string'\n",
    "datatypes_list"
   ]
  },
  {
   "cell_type": "code",
   "execution_count": 14,
   "id": "4a1a7260",
   "metadata": {},
   "outputs": [
    {
     "data": {
      "text/plain": [
       "['Boolean', 'list', 'tuples', 'dictionary', 'sets', 'int', 'complex']"
      ]
     },
     "execution_count": 14,
     "metadata": {},
     "output_type": "execute_result"
    }
   ],
   "source": [
    "# c) Add elements 'int' and 'complex' to the given list.\n",
    "new_elements = ['int','complex']\n",
    "datatypes_list.extend(new_elements)\n",
    "datatypes_list"
   ]
  },
  {
   "cell_type": "markdown",
   "id": "25a1e62a",
   "metadata": {
    "id": "25a1e62a"
   },
   "source": [
    "### 13. Write a code to perform operations on tuple:\n",
    "\n",
    "- a. Check the length of num_tuple\n",
    "- b. Concatenate the num_tuple and mix_tuple\n",
    "- c. Repeat the mix_tuple two times"
   ]
  },
  {
   "cell_type": "markdown",
   "id": "81e233da",
   "metadata": {
    "id": "81e233da"
   },
   "source": [
    "**Tuples to perform operations:**\n",
    "\n",
    "num_tuple = (23, 43, 56)\n",
    "\n",
    "mix_tuple = (-90, 'string', 979)"
   ]
  },
  {
   "cell_type": "code",
   "execution_count": null,
   "id": "9422682c",
   "metadata": {
    "id": "9422682c"
   },
   "outputs": [],
   "source": [
    "# Create the tuples.\n",
    "\n",
    "num_tuple = (23, 43, 56)\n",
    "mix_tuple = (-90, 'string', 979)"
   ]
  },
  {
   "cell_type": "code",
   "execution_count": 16,
   "id": "60269e45",
   "metadata": {},
   "outputs": [
    {
     "data": {
      "text/plain": [
       "3"
      ]
     },
     "execution_count": 16,
     "metadata": {},
     "output_type": "execute_result"
    }
   ],
   "source": [
    "# a) Check the length of num_tuple.\n",
    "\n",
    "num_tuple = (23, 43, 56)\n",
    "len(num_tuple)"
   ]
  },
  {
   "cell_type": "code",
   "execution_count": 18,
   "id": "53d948bd",
   "metadata": {},
   "outputs": [
    {
     "name": "stdout",
     "output_type": "stream",
     "text": [
      "(23, 43, 56, -90, 'string', 979)\n"
     ]
    }
   ],
   "source": [
    "# b) Concatenate the num_tuple and mix_tuple.\n",
    "\n",
    "num_tuple = (23, 43, 56)\n",
    "mix_tuple = (-90, 'string', 979)\n",
    "print(num_tuple+mix_tuple)"
   ]
  },
  {
   "cell_type": "code",
   "execution_count": 19,
   "id": "7e8d5de6",
   "metadata": {},
   "outputs": [
    {
     "data": {
      "text/plain": [
       "(-90, 'string', 979, -90, 'string', 979)"
      ]
     },
     "execution_count": 19,
     "metadata": {},
     "output_type": "execute_result"
    }
   ],
   "source": [
    "# c) Repeat the mix_tuple two times.\n",
    "\n",
    "mix_tuple*2"
   ]
  },
  {
   "cell_type": "markdown",
   "id": "29ac7960",
   "metadata": {
    "id": "29ac7960"
   },
   "source": [
    "### 14. Replace the elements in the given tuple:\n",
    "\n",
    "- Replace 'sets' with 'strings'"
   ]
  },
  {
   "cell_type": "markdown",
   "id": "9b11570c",
   "metadata": {
    "id": "9b11570c"
   },
   "source": [
    "**Use the tuple below:**\n",
    "\n",
    "my_tuple = ('list', 'sets', 'dict', 'tuple')"
   ]
  },
  {
   "cell_type": "code",
   "execution_count": 20,
   "id": "001f77fd",
   "metadata": {
    "id": "001f77fd"
   },
   "outputs": [
    {
     "data": {
      "text/plain": [
       "('list', 'sets', 'dict', 'tuple')"
      ]
     },
     "execution_count": 20,
     "metadata": {},
     "output_type": "execute_result"
    }
   ],
   "source": [
    "# Create the tuple.\n",
    "\n",
    "my_tuple = ('list','sets','dict','tuple')\n",
    "my_tuple"
   ]
  },
  {
   "cell_type": "code",
   "execution_count": 21,
   "id": "15db4952",
   "metadata": {},
   "outputs": [
    {
     "name": "stdout",
     "output_type": "stream",
     "text": [
      "we cannot replace a tuple\n"
     ]
    }
   ],
   "source": [
    "# a) Replace 'sets' with 'strings'.\n",
    "\n",
    "print(\"we cannot replace a tuple\")"
   ]
  },
  {
   "cell_type": "markdown",
   "id": "0c4eafab",
   "metadata": {
    "id": "0c4eafab"
   },
   "source": [
    "### 15. Write the program to perform following manipulations:\n",
    "\n",
    "- a. Add '789' to the given set\n",
    "- b. Remove '10' from a given set\n",
    "- c. Clear the set"
   ]
  },
  {
   "cell_type": "markdown",
   "id": "d9adf01d",
   "metadata": {
    "id": "d9adf01d"
   },
   "source": [
    "**Use the below set for manipulation**\n",
    "\n",
    "my_set = {10, 67, 45, 89, 90}"
   ]
  },
  {
   "cell_type": "code",
   "execution_count": null,
   "id": "725ba469",
   "metadata": {
    "id": "725ba469"
   },
   "outputs": [],
   "source": [
    "# Create the Set.\n",
    "\n",
    "my_set = {10, 67, 45, 89, 90}"
   ]
  },
  {
   "cell_type": "code",
   "execution_count": 23,
   "id": "563ec57b",
   "metadata": {},
   "outputs": [
    {
     "name": "stdout",
     "output_type": "stream",
     "text": [
      "{67, 90, 789, 89, 10, 45}\n"
     ]
    }
   ],
   "source": [
    "# a)  Add '789' to the given set.\n",
    "my_set = {10, 67, 45, 89, 90}\n",
    "my_set.add(789)\n",
    "print(my_set)"
   ]
  },
  {
   "cell_type": "code",
   "execution_count": 24,
   "id": "cce11db2",
   "metadata": {},
   "outputs": [
    {
     "data": {
      "text/plain": [
       "{45, 67, 89, 90}"
      ]
     },
     "execution_count": 24,
     "metadata": {},
     "output_type": "execute_result"
    }
   ],
   "source": [
    "# b) Remove '10' from a given set.\n",
    "\n",
    "my_set = {10, 67, 45, 89, 90}\n",
    "my_set.remove(10)\n",
    "my_set"
   ]
  },
  {
   "cell_type": "code",
   "execution_count": 26,
   "id": "9db982c8",
   "metadata": {},
   "outputs": [
    {
     "data": {
      "text/plain": [
       "set()"
      ]
     },
     "execution_count": 26,
     "metadata": {},
     "output_type": "execute_result"
    }
   ],
   "source": [
    "# c) Clear the set.\n",
    "\n",
    "my_set = {10, 67, 45, 89, 90}\n",
    "my_set.clear()\n",
    "my_set"
   ]
  },
  {
   "cell_type": "markdown",
   "id": "097560dd",
   "metadata": {
    "id": "097560dd"
   },
   "source": [
    "### 16. Create two sets of words from the given sentences and perform the following operations:\n",
    "\n",
    "- a. Find the count of unique words in each of the sentence\n",
    "- b. Find the common words in both the sentences"
   ]
  },
  {
   "cell_type": "markdown",
   "id": "b2322303",
   "metadata": {
    "id": "b2322303"
   },
   "source": [
    "**Use the sentences given below:**\n",
    "    \n",
    "sentence_1 = 'Let us perform some set operations' \n",
    "\n",
    "sentence_2 = 'set is one of the inbuilt datatype in python'"
   ]
  },
  {
   "cell_type": "code",
   "execution_count": 27,
   "id": "f11135a1",
   "metadata": {
    "id": "f11135a1",
    "outputId": "53ce3e34-9cde-41f7-fb97-d951c5ded916"
   },
   "outputs": [
    {
     "name": "stdout",
     "output_type": "stream",
     "text": [
      "{'perform', 'set', 'Let', 'us', 'operations', 'some'}\n",
      "{'is', 'inbuilt', 'of', 'set', 'the', 'datatype', 'one', 'in', 'python'}\n"
     ]
    }
   ],
   "source": [
    "# Create the sets using the sentences.\n",
    "\n",
    "sentence_1 = 'Let us perform some set operations'\n",
    "sentence_2 = 'set is one of the inbuilt datatype in python'\n",
    "\n",
    "a=set(sentence_1.split())\n",
    "b=set(sentence_2.split())\n",
    "\n",
    "print(a)\n",
    "print(b)"
   ]
  },
  {
   "cell_type": "code",
   "execution_count": 31,
   "id": "226a5ee7",
   "metadata": {},
   "outputs": [
    {
     "name": "stdout",
     "output_type": "stream",
     "text": [
      "the length of unique words in sentence_1 is 6\n",
      "the length of unique words in sentence_2 is 9\n"
     ]
    }
   ],
   "source": [
    "# a) Find the count of unique words in each of the sentence.\n",
    "\n",
    "print('the length of unique words in sentence_1 is',len(a))\n",
    "print('the length of unique words in sentence_2 is',len(b))"
   ]
  },
  {
   "cell_type": "code",
   "execution_count": 32,
   "id": "18fe897a",
   "metadata": {},
   "outputs": [
    {
     "data": {
      "text/plain": [
       "{'set'}"
      ]
     },
     "execution_count": 32,
     "metadata": {},
     "output_type": "execute_result"
    }
   ],
   "source": [
    "# b) Find the common words in both the sentences.\n",
    "\n",
    "a.intersection(b)"
   ]
  },
  {
   "cell_type": "markdown",
   "id": "48b495c8",
   "metadata": {
    "id": "48b495c8"
   },
   "source": [
    "### 17. Write a program to perform following set operations:\n",
    "\n",
    "- a. Union\n",
    "- b. Intersection\n",
    "- c. Set of all the elements of set A that are not in set B\n",
    "- d. Set of all the elements of set B that are not in set A"
   ]
  },
  {
   "cell_type": "markdown",
   "id": "9b4fedb9",
   "metadata": {
    "id": "9b4fedb9"
   },
   "source": [
    "**Use the below set:**\n",
    "\n",
    "A = {27, 19, 82, 76, 89, 34, 66, 89}\n",
    "\n",
    "B = {12, 70, 66, 76, 22}"
   ]
  },
  {
   "cell_type": "code",
   "execution_count": null,
   "id": "a97f672f",
   "metadata": {
    "id": "a97f672f"
   },
   "outputs": [],
   "source": [
    "# Create the sets.\n",
    "\n",
    "A = {27, 19, 82, 76, 89, 34, 66, 89}\n",
    "B = {12, 70, 66, 76, 22}"
   ]
  },
  {
   "cell_type": "code",
   "execution_count": 38,
   "id": "fb2868b0",
   "metadata": {},
   "outputs": [
    {
     "name": "stdout",
     "output_type": "stream",
     "text": [
      "{34, 66, 70, 76, 12, 82, 19, 22, 89, 27}\n"
     ]
    }
   ],
   "source": [
    "# a) Union.\n",
    "\n",
    "A = {27, 19, 82, 76, 89, 34, 66, 89}\n",
    "B = {12, 70, 66, 76, 22}\n",
    "print(A.union(B))"
   ]
  },
  {
   "cell_type": "code",
   "execution_count": 39,
   "id": "363bb2fb",
   "metadata": {},
   "outputs": [
    {
     "name": "stdout",
     "output_type": "stream",
     "text": [
      "{66, 76}\n"
     ]
    }
   ],
   "source": [
    "# b) Intersection.\n",
    "\n",
    "A = {27, 19, 82, 76, 89, 34, 66, 89}\n",
    "B = {12, 70, 66, 76, 22}\n",
    "print(A.intersection(B))"
   ]
  },
  {
   "cell_type": "code",
   "execution_count": 40,
   "id": "5b8142e7",
   "metadata": {},
   "outputs": [
    {
     "data": {
      "text/plain": [
       "{19, 27, 34, 82, 89}"
      ]
     },
     "execution_count": 40,
     "metadata": {},
     "output_type": "execute_result"
    }
   ],
   "source": [
    "# c)  Set of all the elements of set A that are not in set B.\n",
    "\n",
    "A = {27, 19, 82, 76, 89, 34, 66, 89}\n",
    "B = {12, 70, 66, 76, 22}\n",
    "\n",
    "A.difference(B)"
   ]
  },
  {
   "cell_type": "code",
   "execution_count": 41,
   "id": "88f3c726",
   "metadata": {},
   "outputs": [
    {
     "data": {
      "text/plain": [
       "{12, 22, 70}"
      ]
     },
     "execution_count": 41,
     "metadata": {},
     "output_type": "execute_result"
    }
   ],
   "source": [
    "# d) Set of all the elements of set B that are not in set A.\n",
    "\n",
    "A = {27, 19, 82, 76, 89, 34, 66, 89}\n",
    "B = {12, 70, 66, 76, 22}\n",
    "\n",
    "B.difference(A)"
   ]
  },
  {
   "cell_type": "markdown",
   "id": "0a0018d0",
   "metadata": {
    "id": "0a0018d0"
   },
   "source": [
    "### 18. Write a code to add a key to a dictionary\n"
   ]
  },
  {
   "cell_type": "markdown",
   "id": "b942a38d",
   "metadata": {
    "id": "b942a38d"
   },
   "source": [
    "**Use the given dictionary and add a key (20:4)**\n",
    "\n",
    "my_dict = {100:10, 200:20, 300:30}"
   ]
  },
  {
   "cell_type": "code",
   "execution_count": 42,
   "id": "088bad14",
   "metadata": {
    "id": "088bad14",
    "outputId": "52573274-1c6e-4fe6-fe1c-7b4d51706ca6"
   },
   "outputs": [
    {
     "name": "stdout",
     "output_type": "stream",
     "text": [
      "{100: 10, 200: 20, 300: 30, 20: 4}\n"
     ]
    }
   ],
   "source": [
    "# Create a dictionary.\n",
    "\n",
    "my_dict = {100:10, 200:20, 300:30}\n",
    "\n",
    "my_dict[20] = 4\n",
    "print(my_dict)"
   ]
  },
  {
   "cell_type": "markdown",
   "id": "1dda0e3b",
   "metadata": {
    "id": "1dda0e3b"
   },
   "source": [
    "### 19. Write a program to retrieve the keys/values of dictionary"
   ]
  },
  {
   "cell_type": "markdown",
   "id": "d0c6687c",
   "metadata": {},
   "source": [
    "Use the dictionary\n",
    "mix_dictionary = {'Fruits':''Apple','Quanitity':12, 'Veggies':'Broccoli','Price':20 }"
   ]
  },
  {
   "cell_type": "code",
   "execution_count": 49,
   "id": "2c6aece7",
   "metadata": {},
   "outputs": [
    {
     "name": "stdout",
     "output_type": "stream",
     "text": [
      "dict_keys(['Fruits', 'Quanitity', 'Veggies', 'Price'])\n",
      "dict_values(['Apple', 12, 'Broccoli', 20])\n"
     ]
    }
   ],
   "source": [
    "# Create a dictionary.\n",
    "\n",
    "mix_dictionary = {'Fruits':'Apple','Quanitity':12, 'Veggies':'Broccoli','Price':20 }\n",
    "\n",
    "print(mix_dictionary.keys())\n",
    "print(mix_dictionary.values())"
   ]
  },
  {
   "cell_type": "markdown",
   "id": "9c86ace2",
   "metadata": {
    "id": "9c86ace2"
   },
   "source": [
    " 20. Write a program to get the value for 'Age' from the dictionary"
   ]
  },
  {
   "cell_type": "markdown",
   "id": "c8a23757",
   "metadata": {
    "id": "c8a23757"
   },
   "source": [
    "Use the dictionary\n",
    "\n",
    "emp_record = {'Weight': 67, 'BMI': 25, 'Age': 27, 'Profession': 'CA'}"
   ]
  },
  {
   "cell_type": "code",
   "execution_count": 50,
   "id": "91d9085b",
   "metadata": {
    "id": "91d9085b",
    "outputId": "9dddc4cb-5dbe-4a91-a505-f84228d83a0b"
   },
   "outputs": [
    {
     "data": {
      "text/plain": [
       "27"
      ]
     },
     "execution_count": 50,
     "metadata": {},
     "output_type": "execute_result"
    }
   ],
   "source": [
    "# Create a dictionary.\n",
    "\n",
    "emp_record = {'Weight': 67, 'BMI': 25, 'Age': 27, 'Profession': 'CA'}\n",
    "\n",
    "# Get the value of 'age'.\n",
    "\n",
    "emp_record['Age']"
   ]
  },
  {
   "cell_type": "markdown",
   "id": "634b2c04",
   "metadata": {
    "id": "634b2c04"
   },
   "source": [
    "### 21. Write a program to create a dictionary using given keys and values. (Hint: make use of zip function)"
   ]
  },
  {
   "cell_type": "markdown",
   "id": "3e58cb53",
   "metadata": {
    "id": "3e58cb53"
   },
   "source": [
    "**Use the keys and values to create a dictionary**\n",
    "\n",
    "keys = ['Fruits', 'Quanitity', 'Veggies', 'Price']\n",
    "\n",
    "values = ['Apple', 12, 'Broccoli', 20]"
   ]
  },
  {
   "cell_type": "code",
   "execution_count": 51,
   "id": "0f01cc93",
   "metadata": {
    "id": "0f01cc93",
    "outputId": "e8049865-ed6e-419e-db9c-4f41c8f75ff5"
   },
   "outputs": [
    {
     "data": {
      "text/plain": [
       "{'Fruits': 'Apple', 'Quanitity': 12, 'Veggies': 'Broccoli', 'Price': 20}"
      ]
     },
     "execution_count": 51,
     "metadata": {},
     "output_type": "execute_result"
    }
   ],
   "source": [
    "# Create a list of keys and values.\n",
    "\n",
    "keys = ['Fruits', 'Quanitity', 'Veggies', 'Price']\n",
    "values = ['Apple', 12, 'Broccoli', 20]\n",
    "\n",
    "# Perform the operation to create a dictionary using lists.\n",
    "\n",
    "dict(zip(keys,values))"
   ]
  },
  {
   "cell_type": "markdown",
   "id": "a2f44ae5",
   "metadata": {
    "id": "a2f44ae5"
   },
   "source": [
    "### 22. Set the city of an customer as 'Bangalore' in the given customer record"
   ]
  },
  {
   "cell_type": "markdown",
   "id": "f8615693",
   "metadata": {
    "id": "f8615693"
   },
   "source": [
    "**Use the dictionary**\n",
    "\n",
    "cust_record = {'Cust_ID': 'C001', 'Phno': 9880790675, 'Age': 22, 'Profession': 'Data analyst'}"
   ]
  },
  {
   "cell_type": "code",
   "execution_count": 53,
   "id": "7d0418e5",
   "metadata": {
    "id": "7d0418e5"
   },
   "outputs": [
    {
     "name": "stdout",
     "output_type": "stream",
     "text": [
      "{'Cust_ID': 'C001', 'Phno': 9880790675, 'Age': 22, 'Profession': 'Data analyst', 'city': 'Bangalore'}\n"
     ]
    }
   ],
   "source": [
    "# Create a Dictionary.\n",
    "\n",
    "cust_record = {'Cust_ID': 'C001', 'Phno': 9880790675, 'Age': 22, 'Profession': 'Data analyst'}\n",
    "\n",
    "# Perform the operation\n",
    "cust_record['city']='Bangalore'\n",
    "print(cust_record)"
   ]
  },
  {
   "cell_type": "markdown",
   "id": "6ee4a581",
   "metadata": {
    "id": "6ee4a581"
   },
   "source": [
    "### 23. Write a program to check whether a given number is multiple of 7 (use if statement)"
   ]
  },
  {
   "cell_type": "code",
   "execution_count": 56,
   "id": "7388a678",
   "metadata": {
    "id": "7388a678",
    "outputId": "07de1521-65b6-420c-9c9d-6e74e4a1a431"
   },
   "outputs": [
    {
     "name": "stdout",
     "output_type": "stream",
     "text": [
      "enter your number21\n",
      "its a multiple of 7\n"
     ]
    }
   ],
   "source": [
    "# Check the multiples of 7.\n",
    "\n",
    "number=int(input(\"enter your number\"))\n",
    "if number%7==0:\n",
    "      print(\"its a multiple of 7\")"
   ]
  },
  {
   "cell_type": "markdown",
   "id": "2f7c8ac7",
   "metadata": {
    "id": "2f7c8ac7"
   },
   "source": [
    "### 24. Write a code to print the maximum of two numbers (use if-else). Take input from the user."
   ]
  },
  {
   "cell_type": "code",
   "execution_count": 55,
   "id": "010f5619",
   "metadata": {
    "id": "010f5619",
    "outputId": "28c782fa-e42c-4bbb-d3b6-0f94ff30d99c"
   },
   "outputs": [
    {
     "name": "stdout",
     "output_type": "stream",
     "text": [
      "enter the first number10\n",
      "enter the second number30\n",
      "number2 is greater\n"
     ]
    }
   ],
   "source": [
    "#Code to print the Max of Two numbers ( using if-else condition).\n",
    "\n",
    "number1=int(input(\"enter the first number\"))\n",
    "number2=int(input(\"enter the second number\"))\n",
    "if number1>number2:\n",
    "    print(\"number1 is greater\")\n",
    "else:\n",
    "    print(\"number2 is greater\")"
   ]
  },
  {
   "cell_type": "markdown",
   "id": "b726a902",
   "metadata": {
    "id": "b726a902"
   },
   "source": [
    "### 25. Write a program to check whether a number is positive, negative or zero (use if-elif). Take input from the user"
   ]
  },
  {
   "cell_type": "code",
   "execution_count": 57,
   "id": "92afd322",
   "metadata": {
    "id": "92afd322",
    "outputId": "f173ca56-8b7d-464d-c96c-9d1a5fff671a"
   },
   "outputs": [
    {
     "name": "stdout",
     "output_type": "stream",
     "text": [
      "enter a number-2\n",
      "its negative number\n"
     ]
    }
   ],
   "source": [
    "#Check a number is (+,- or 0).\n",
    "\n",
    "num1=int(input(\"enter a number\"))\n",
    "if num1==0:\n",
    "    print('its a zero')\n",
    "elif num1<0:\n",
    "    print(\"its negative number\")\n",
    "else:\n",
    "    print('its positive number')"
   ]
  },
  {
   "cell_type": "markdown",
   "id": "d0b27717",
   "metadata": {
    "id": "d0b27717"
   },
   "source": [
    "### 26. Write a program for generating a fibonacci series starting with 0 and 1 for the next 10 values using a while loop."
   ]
  },
  {
   "cell_type": "code",
   "execution_count": 58,
   "id": "a1a64f37",
   "metadata": {
    "id": "a1a64f37",
    "outputId": "57cd0a2f-723c-44c4-c010-cd36b61b8c9c"
   },
   "outputs": [
    {
     "name": "stdout",
     "output_type": "stream",
     "text": [
      "The fibonnaci series is: [0, 1, 1, 2, 3, 5, 8, 13, 21, 34, 55, 89]\n"
     ]
    }
   ],
   "source": [
    "# Generate a Fibonacci series starting with 0 & 1, the next 10values using loop.\n",
    "\n",
    "a=0\n",
    "b=1\n",
    "fibo=[a,b]\n",
    "i=1\n",
    "while i<11:\n",
    "    c=a+b\n",
    "    a=b\n",
    "    b=c\n",
    "    i+=1\n",
    "    fibo.append(b)\n",
    "    \n",
    "print(\"The fibonnaci series is:\",fibo)  "
   ]
  },
  {
   "cell_type": "markdown",
   "id": "2021d08f",
   "metadata": {
    "id": "2021d08f"
   },
   "source": [
    "### 27. Write a code to find factorial of a number (take the input from user)."
   ]
  },
  {
   "cell_type": "code",
   "execution_count": 59,
   "id": "301fe710",
   "metadata": {
    "id": "301fe710",
    "outputId": "ed6afe72-9998-44a8-95e0-f52829017f07"
   },
   "outputs": [
    {
     "name": "stdout",
     "output_type": "stream",
     "text": [
      "enter a number: 6\n",
      "720\n"
     ]
    }
   ],
   "source": [
    "#Factorial of a Number (take the input from the user).\n",
    "\n",
    "num=int(input(\"enter a number: \"))\n",
    "fact=1\n",
    "if num <0:\n",
    "    print('sorry,factorial does not exist for neagative numbers')\n",
    "elif num==0:\n",
    "    print('the factorial of 0 is 1')\n",
    "else:\n",
    "    for i in range(1,num+1):\n",
    "        fact=fact*i\n",
    "print(fact)"
   ]
  },
  {
   "cell_type": "markdown",
   "id": "02234b69",
   "metadata": {
    "id": "02234b69"
   },
   "source": [
    "### 28. Write a program to check whether a number is prime or not (take the input from user)"
   ]
  },
  {
   "cell_type": "code",
   "execution_count": 60,
   "id": "ec6a1ca3",
   "metadata": {
    "id": "ec6a1ca3",
    "outputId": "d29eeec1-5ff1-40b5-c0f1-3b6d723d9504"
   },
   "outputs": [
    {
     "name": "stdout",
     "output_type": "stream",
     "text": [
      "Enter any number: 888\n",
      "888 is not a prime number\n"
     ]
    }
   ],
   "source": [
    "#Check whether a number is prime or not.\n",
    "\n",
    "number = int(input(\"Enter any number: \"))\n",
    "if number > 1:\n",
    "    for i in range(2, number):\n",
    "        if (number % i) == 0:\n",
    "            print(number, \"is not a prime number\")\n",
    "            break\n",
    "    else:\n",
    "        print(number, \"is a prime number\")\n",
    "else:\n",
    "    print(number, \"is not a prime number\")"
   ]
  },
  {
   "cell_type": "markdown",
   "id": "0be87322",
   "metadata": {
    "id": "0be87322"
   },
   "source": [
    "### 29. Use list comprehension to obtain the square of first 10 natural numbers."
   ]
  },
  {
   "cell_type": "code",
   "execution_count": 61,
   "id": "34a60100",
   "metadata": {
    "id": "34a60100",
    "outputId": "47b0c241-6e0c-400a-f705-de939b16fab9"
   },
   "outputs": [
    {
     "name": "stdout",
     "output_type": "stream",
     "text": [
      "[1, 4, 9, 16, 25, 36, 49, 64, 81, 100]\n"
     ]
    }
   ],
   "source": [
    "# Squares of First 10 natural numbers.\n",
    "\n",
    "my_list= [x**2 for x in range(1,11)]\n",
    "print(my_list)"
   ]
  },
  {
   "cell_type": "markdown",
   "id": "53ebb86a",
   "metadata": {
    "id": "53ebb86a"
   },
   "source": [
    "### 30. Use list comprehension to find the used vowels in a given sentence.\n",
    "\n",
    "Use the sentence below:\n",
    "\n",
    "sentence = 'Data Analytics at Great Learning'"
   ]
  },
  {
   "cell_type": "code",
   "execution_count": 62,
   "id": "45a0b9b6",
   "metadata": {
    "id": "45a0b9b6",
    "outputId": "9b0d4359-1563-4369-8d9e-4e0d6eddab13"
   },
   "outputs": [
    {
     "name": "stdout",
     "output_type": "stream",
     "text": [
      "{'e', 'A', 'a', 'i'}\n"
     ]
    }
   ],
   "source": [
    "# Find the Vowels in the sentence.\n",
    "\n",
    "s = \"Data Analytics at Great Learning\"\n",
    "vowels = [x for x in s if x in ['a','A','e','E','i','I','o','O','u','U']]\n",
    "print(set(vowels))"
   ]
  },
  {
   "cell_type": "markdown",
   "id": "7086c9fe",
   "metadata": {
    "id": "7086c9fe"
   },
   "source": [
    "### 31. Use list comprehension to print numbers divisible by 2 and 3 in between 1 and 100."
   ]
  },
  {
   "cell_type": "code",
   "execution_count": 63,
   "id": "4996349b",
   "metadata": {
    "id": "4996349b",
    "outputId": "11673d4c-4212-4756-c27b-b149a94a029f"
   },
   "outputs": [
    {
     "name": "stdout",
     "output_type": "stream",
     "text": [
      "[0, 6, 12, 18, 24, 30, 36, 42, 48, 54, 60, 66, 72, 78, 84, 90, 96]\n"
     ]
    }
   ],
   "source": [
    "# Print numbers divisible by 2 and 3 in b/w 1 and 100.\n",
    "\n",
    "divisible_by_2_and_3 = [y for y in range(100) if y%2==0 if y%3==0]\n",
    "print(divisible_by_2_and_3)"
   ]
  },
  {
   "cell_type": "markdown",
   "id": "82f7b3f8",
   "metadata": {
    "id": "82f7b3f8"
   },
   "source": [
    "### 32. Use list comprehension to extract numbers from a string"
   ]
  },
  {
   "cell_type": "markdown",
   "id": "99e8bcce",
   "metadata": {
    "id": "99e8bcce"
   },
   "source": [
    "**Use the string below\"**\n",
    "\n",
    "string = \"hello 6645 World\""
   ]
  },
  {
   "cell_type": "code",
   "execution_count": 64,
   "id": "6d111f54",
   "metadata": {
    "id": "6d111f54",
    "outputId": "cb900840-119a-4877-ea14-94f3a494fea9"
   },
   "outputs": [
    {
     "name": "stdout",
     "output_type": "stream",
     "text": [
      "['6', '6', '4', '5']\n"
     ]
    }
   ],
   "source": [
    "# Extract the numbers from a String.\n",
    "\n",
    "string = \"hello 6645 World\"\n",
    "numbers = [x for x in string if x.isdigit()]\n",
    "print(numbers)"
   ]
  },
  {
   "cell_type": "markdown",
   "id": "0aca8933",
   "metadata": {
    "id": "0aca8933"
   },
   "source": [
    "------\n",
    "### Happy Learning :)\n",
    "------"
   ]
  }
 ],
 "metadata": {
  "colab": {
   "provenance": []
  },
  "kernelspec": {
   "display_name": "Python 3 (ipykernel)",
   "language": "python",
   "name": "python3"
  },
  "language_info": {
   "codemirror_mode": {
    "name": "ipython",
    "version": 3
   },
   "file_extension": ".py",
   "mimetype": "text/x-python",
   "name": "python",
   "nbconvert_exporter": "python",
   "pygments_lexer": "ipython3",
   "version": "3.9.13"
  }
 },
 "nbformat": 4,
 "nbformat_minor": 5
}
